{
  "cells": [
    {
      "cell_type": "code",
      "source": [
        "%load_ext lab_black"
      ],
      "outputs": [
        {
          "output_type": "stream",
          "name": "stdout",
          "text": "The lab_black extension is already loaded. To reload it, use:\n  %reload_ext lab_black\n"
        }
      ],
      "execution_count": 8,
      "metadata": {}
    },
    {
      "cell_type": "code",
      "source": [
        "from azureml.core import Experiment\n",
        "from azureml.pipeline.core import Pipeline\n",
        "from azureml.pipeline.steps import PythonScriptStep\n",
        "from azureml.core.runconfig import RunConfiguration\n",
        "from azureml.core import Environment, Workspace\n",
        "from dotenv import load_dotenv\n",
        "import os\n",
        "from azureml.core.compute import ComputeTarget\n",
        "# Load .env file\n",
        "load_dotenv()\n",
        "\n",
        "from azureml.core import Environment\n",
        "from azureml.pipeline.core import ScheduleRecurrence, Schedule\n",
        "\n",
        "# Initialize Azure ML Workspace\n",
        "ws = Workspace.from_config()"
      ],
      "outputs": [],
      "execution_count": 9,
      "metadata": {
        "jupyter": {
          "source_hidden": false,
          "outputs_hidden": false
        },
        "nteract": {
          "transient": {
            "deleting": false
          }
        },
        "gather": {
          "logged": 1695747108923
        }
      }
    },
    {
      "cell_type": "code",
      "source": [
        "\n",
        "# Create the environment from requirements.txt\n",
        "python_env = Environment.from_pip_requirements(\"pipeline_env\", \"requirements.txt\")\n",
        "\n",
        "# Set environment variables\n",
        "env_vars = {\n",
        "    \"subscription_id\": os.getenv(\"subscription_id\"),\n",
        "    \"resource_group\": os.getenv(\"resource_group\"),\n",
        "    \"workspace_name\": os.getenv(\"workspace_name\"),\n",
        "    \"tenant_id\": os.getenv(\"tenant_id\"),\n",
        "    \"client_id\": os.getenv(\"client_id\"),\n",
        "    \"client_secret\": os.getenv(\"client_secret\"),\n",
        "}\n",
        "\n",
        "python_env.environment_variables = env_vars"
      ],
      "outputs": [
        {
          "output_type": "stream",
          "name": "stderr",
          "text": "Property environment_variables is deprecated. Use RunConfiguration.environment_variables to set runtime variables.\n"
        }
      ],
      "execution_count": 10,
      "metadata": {
        "jupyter": {
          "source_hidden": false,
          "outputs_hidden": false
        },
        "nteract": {
          "transient": {
            "deleting": false
          }
        },
        "gather": {
          "logged": 1695747110879
        }
      }
    },
    {
      "cell_type": "code",
      "source": [
        "# Create a new runconfig object for the pipeline\n",
        "pipeline_run_config = RunConfiguration()\n",
        "pipeline_run_config.environment = python_env\n",
        "\n",
        "# Define the name of your existing compute target\n",
        "existing_compute_target_name = \"matthewhanauer993\"\n",
        "\n",
        "# Retrieve the existing compute target\n",
        "compute_target = ComputeTarget(workspace=ws, name=existing_compute_target_name)\n",
        "\n",
        "# Validate that the compute target exists\n",
        "if compute_target is not None:\n",
        "    print(f\"Using existing compute target: {existing_compute_target_name}\")\n",
        "else:\n",
        "    print(f\"No compute target found with name {existing_compute_target_name}\")\n",
        "    exit(1)  # Exit the script if the compute target doesn't exist\n",
        "\n",
        "data_loading_step = PythonScriptStep(\n",
        "    name=\"Data Loading Step\",\n",
        "    script_name=\"data_loading.py\",\n",
        "    source_directory=\"./\",\n",
        "    runconfig=pipeline_run_config,\n",
        "    compute_target=compute_target,\n",
        "    allow_reuse=False,\n",
        ")\n",
        "\n",
        "analysis_step = PythonScriptStep(\n",
        "    name=\"Analysis Step\",\n",
        "    script_name=\"analysis.py\",\n",
        "    source_directory=\"./\",\n",
        "    runconfig=pipeline_run_config,\n",
        "    compute_target=compute_target,\n",
        "    allow_reuse=False,\n",
        ")\n",
        "\n",
        "analysis_step.run_after(data_loading_step)\n",
        "\n",
        "# Create and submit the pipeline\n",
        "# Create a Pipeline\n",
        "pipeline = Pipeline(workspace=ws, steps=[data_loading_step, analysis_step])\n",
        "# Create an experiment and run the pipeline\n",
        "experiment = Experiment(workspace=ws, name=\"My_Pipeline\")\n",
        "pipeline_run = experiment.submit(pipeline)\n",
        "\n",
        "experiment_name = \"My_Docker_Pipeline\"\n",
        "experiment = Experiment(workspace=ws, name=experiment_name)\n",
        "pipeline_run = experiment.submit(pipeline)\n",
        "\n",
        "published_pipeline = pipeline.publish(\n",
        "    name=\"My_Published_Pipeline\",\n",
        "    description=\"Published pipeline to run the script every minute.\",\n",
        ")\n",
        "\n",
        "pipeline_id = published_pipeline.id"
      ],
      "outputs": [
        {
          "output_type": "stream",
          "name": "stdout",
          "text": "Using existing compute target: matthewhanauer993\nCreated step Data Loading Step [b8259a70][d1d2f25f-314a-4e1b-85e5-25617e72baea], (This step will run and generate new outputs)\nCreated step Analysis Step [40bfc734][b2472af3-a7d5-4aff-9479-322c4218f556], (This step will run and generate new outputs)\nSubmitted PipelineRun 0a3e687b-98e9-4422-a1fa-1079a85d925f\nLink to Azure Machine Learning Portal: https://ml.azure.com/runs/0a3e687b-98e9-4422-a1fa-1079a85d925f?wsid=/subscriptions/d3ade6e0-a7be-4323-ace4-02b7b4da2451/resourcegroups/ml_modeling/workspaces/mhanauer_1&tid=a93eafc8-c064-4a88-bc01-47e93068b42b\nSubmitted PipelineRun c48648a6-b98d-4182-a65b-aab8e9745d89\nLink to Azure Machine Learning Portal: https://ml.azure.com/runs/c48648a6-b98d-4182-a65b-aab8e9745d89?wsid=/subscriptions/d3ade6e0-a7be-4323-ace4-02b7b4da2451/resourcegroups/ml_modeling/workspaces/mhanauer_1&tid=a93eafc8-c064-4a88-bc01-47e93068b42b\n"
        }
      ],
      "execution_count": 13,
      "metadata": {
        "jupyter": {
          "source_hidden": false,
          "outputs_hidden": false
        },
        "nteract": {
          "transient": {
            "deleting": false
          }
        },
        "gather": {
          "logged": 1695747257873
        }
      }
    },
    {
      "cell_type": "code",
      "source": [
        "# Define the pipeline schedule\n",
        "recurrence = ScheduleRecurrence(frequency=\"Minute\", interval=1)  # Runs every minute\n",
        "schedule = Schedule.create(\n",
        "    ws,\n",
        "    name=\"My_Schedule\",\n",
        "    description=\"Runs pipeline every minute\",\n",
        "    pipeline_id=pipeline_id,\n",
        "    experiment_name=experiment_name,\n",
        "    recurrence=recurrence,\n",
        ")"
      ],
      "outputs": [],
      "execution_count": 14,
      "metadata": {
        "jupyter": {
          "source_hidden": false,
          "outputs_hidden": false
        },
        "nteract": {
          "transient": {
            "deleting": false
          }
        },
        "gather": {
          "logged": 1695747270399
        }
      }
    },
    {
      "cell_type": "code",
      "source": [
        "# Your schedule name\n",
        "schedule_name = \"My_Schedule\"\n",
        "\n",
        "# List all schedules in the workspace\n",
        "schedules = Schedule.list(ws)\n",
        "\n",
        "# Filter and disable the schedule with the given name\n",
        "for schedule in schedules:\n",
        "    if schedule.name == schedule_name:\n",
        "        print(f\"Disabling schedule {schedule.name}\")\n",
        "        schedule.disable()"
      ],
      "outputs": [
        {
          "output_type": "stream",
          "name": "stdout",
          "text": "Disabling schedule My_Schedule\n"
        }
      ],
      "execution_count": 15,
      "metadata": {
        "jupyter": {
          "source_hidden": false,
          "outputs_hidden": false
        },
        "nteract": {
          "transient": {
            "deleting": false
          }
        },
        "gather": {
          "logged": 1695747364292
        }
      }
    }
  ],
  "metadata": {
    "kernelspec": {
      "name": "python38-azureml",
      "language": "python",
      "display_name": "Python 3.8 - AzureML"
    },
    "language_info": {
      "name": "python",
      "version": "3.8.5",
      "mimetype": "text/x-python",
      "codemirror_mode": {
        "name": "ipython",
        "version": 3
      },
      "pygments_lexer": "ipython3",
      "nbconvert_exporter": "python",
      "file_extension": ".py"
    },
    "microsoft": {
      "ms_spell_check": {
        "ms_spell_check_language": "en"
      },
      "host": {
        "AzureML": {
          "notebookHasBeenCompleted": true
        }
      }
    },
    "nteract": {
      "version": "nteract-front-end@1.0.0"
    },
    "kernel_info": {
      "name": "python38-azureml"
    }
  },
  "nbformat": 4,
  "nbformat_minor": 2
}