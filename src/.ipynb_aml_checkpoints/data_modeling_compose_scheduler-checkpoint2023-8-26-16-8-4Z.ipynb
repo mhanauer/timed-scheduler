{
  "cells": [
    {
      "cell_type": "code",
      "source": [
        "%load_ext lab_black"
      ],
      "outputs": [],
      "execution_count": 1,
      "metadata": {}
    },
    {
      "cell_type": "code",
      "source": [
        "from azureml.core import Experiment\n",
        "from azureml.pipeline.core import Pipeline\n",
        "from azureml.pipeline.steps import PythonScriptStep\n",
        "from azureml.core.runconfig import RunConfiguration\n",
        "from azureml.core import Environment, Workspace\n",
        "\n",
        "# Initialize Azure ML Workspace\n",
        "ws = Workspace.from_config()\n",
        "\n",
        "# Create a Python environment for the experiment\n",
        "python_env = Environment.from_pip_requirements(\"pipeline_env\", \"requirements.txt\")"
      ],
      "outputs": [],
      "execution_count": 2,
      "metadata": {
        "jupyter": {
          "source_hidden": false,
          "outputs_hidden": false
        },
        "nteract": {
          "transient": {
            "deleting": false
          }
        },
        "gather": {
          "logged": 1695735046940
        }
      }
    },
    {
      "cell_type": "code",
      "source": [
        "# Create a new runconfig object for the pipeline\n",
        "pipeline_run_config = RunConfiguration()\n",
        "pipeline_run_config.environment = python_env\n",
        "\n",
        "from azureml.core.compute import ComputeTarget\n",
        "\n",
        "# Define the name of your existing compute target\n",
        "existing_compute_target_name = \"matthewhanauer993\"\n",
        "\n",
        "# Retrieve the existing compute target\n",
        "compute_target = ComputeTarget(workspace=ws, name=existing_compute_target_name)\n",
        "\n",
        "# Validate that the compute target exists\n",
        "if compute_target is not None:\n",
        "    print(f\"Using existing compute target: {existing_compute_target_name}\")\n",
        "else:\n",
        "    print(f\"No compute target found with name {existing_compute_target_name}\")\n",
        "    exit(1)  # Exit the script if the compute target doesn't exist\n",
        "\n",
        "# Step to manage Docker services\n",
        "docker_script_step = PythonScriptStep(\n",
        "    name=\"Manage Docker Services\",\n",
        "    script_name=\"manage_docker.py\",\n",
        "    arguments=[\"start\"],  # or [\"stop\"] to stop services\n",
        "    source_directory=\"./\",\n",
        "    runconfig=pipeline_run_config,\n",
        "    compute_target=compute_target,\n",
        "    allow_reuse=False,\n",
        ")\n",
        "\n",
        "# Create and submit the pipeline\n",
        "pipeline = Pipeline(workspace=ws, steps=[docker_script_step])\n",
        "experiment_name = 'My_Docker_Pipeline'\n",
        "experiment = Experiment(workspace=ws, name=experiment_name)\n",
        "pipeline_run = experiment.submit(pipeline)\n",
        "\n",
        "published_pipeline = pipeline.publish(\n",
        "    name=\"My_Published_Pipeline\",\n",
        "    description=\"Published pipeline to run the script every minute.\",\n",
        ")\n",
        "\n",
        "pipeline_id = published_pipeline.id"
      ],
      "outputs": [
        {
          "output_type": "stream",
          "name": "stdout",
          "text": "Using existing compute target: matthewhanauer993\nCreated step Manage Docker Services [c6c67963][7de3e201-860c-4ee2-94bb-8146437020c3], (This step will run and generate new outputs)\nSubmitted PipelineRun 1571c6bf-183b-4b03-bff4-8dac0f42e464\nLink to Azure Machine Learning Portal: https://ml.azure.com/runs/1571c6bf-183b-4b03-bff4-8dac0f42e464?wsid=/subscriptions/d3ade6e0-a7be-4323-ace4-02b7b4da2451/resourcegroups/ml_modeling/workspaces/mhanauer_1&tid=a93eafc8-c064-4a88-bc01-47e93068b42b\n"
        }
      ],
      "execution_count": 8,
      "metadata": {
        "jupyter": {
          "source_hidden": false,
          "outputs_hidden": false
        },
        "nteract": {
          "transient": {
            "deleting": false
          }
        },
        "gather": {
          "logged": 1695735185053
        }
      }
    },
    {
      "cell_type": "code",
      "source": [
        "from azureml.pipeline.core import ScheduleRecurrence, Schedule\n",
        "\n",
        "# Define the pipeline schedule\n",
        "recurrence = ScheduleRecurrence(frequency=\"Minute\", interval=1)  # Runs every minute\n",
        "schedule = Schedule.create(\n",
        "    ws,\n",
        "    name=\"My_Schedule\",\n",
        "    description=\"Runs pipeline every minute\",\n",
        "    pipeline_id=pipeline_id,\n",
        "    experiment_name=experiment_name,\n",
        "    recurrence=recurrence,\n",
        ")"
      ],
      "outputs": [],
      "execution_count": 10,
      "metadata": {
        "jupyter": {
          "source_hidden": false,
          "outputs_hidden": false
        },
        "nteract": {
          "transient": {
            "deleting": false
          }
        },
        "gather": {
          "logged": 1695735999986
        }
      }
    },
    {
      "cell_type": "code",
      "source": [
        "from azureml.core import Workspace\n",
        "from azureml.pipeline.core import Schedule\n",
        "\n",
        "# Initialize Azure ML Workspace\n",
        "ws = Workspace.from_config()\n",
        "\n",
        "# Your schedule name\n",
        "schedule_name = \"My_Schedule\"\n",
        "\n",
        "# List all schedules in the workspace\n",
        "schedules = Schedule.list(ws)\n",
        "\n",
        "# Filter and disable the schedule with the given name\n",
        "for schedule in schedules:\n",
        "    if schedule.name == schedule_name:\n",
        "        print(f\"Disabling schedule {schedule.name}\")\n",
        "        schedule.disable()"
      ],
      "outputs": [],
      "execution_count": null,
      "metadata": {
        "jupyter": {
          "source_hidden": false,
          "outputs_hidden": false
        },
        "nteract": {
          "transient": {
            "deleting": false
          }
        }
      }
    }
  ],
  "metadata": {
    "kernelspec": {
      "name": "python38-azureml",
      "language": "python",
      "display_name": "Python 3.8 - AzureML"
    },
    "language_info": {
      "name": "python",
      "version": "3.8.5",
      "mimetype": "text/x-python",
      "codemirror_mode": {
        "name": "ipython",
        "version": 3
      },
      "pygments_lexer": "ipython3",
      "nbconvert_exporter": "python",
      "file_extension": ".py"
    },
    "microsoft": {
      "ms_spell_check": {
        "ms_spell_check_language": "en"
      }
    },
    "nteract": {
      "version": "nteract-front-end@1.0.0"
    },
    "kernel_info": {
      "name": "python38-azureml"
    }
  },
  "nbformat": 4,
  "nbformat_minor": 2
}