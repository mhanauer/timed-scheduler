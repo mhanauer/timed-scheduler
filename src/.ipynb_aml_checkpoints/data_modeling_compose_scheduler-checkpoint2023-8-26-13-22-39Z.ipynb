{
  "cells": [
    {
      "cell_type": "code",
      "source": [
        "%load_ext lab_black"
      ],
      "outputs": [],
      "execution_count": null,
      "metadata": {}
    },
    {
      "cell_type": "code",
      "source": [
        "from azureml.core import Experiment\n",
        "from azureml.pipeline.core import Pipeline\n",
        "from azureml.pipeline.steps import PythonScriptStep\n",
        "from azureml.core.runconfig import RunConfiguration\n",
        "from azureml.core import Environment, Workspace\n",
        "\n",
        "# Initialize Azure ML Workspace\n",
        "ws = Workspace.from_config()\n",
        "\n",
        "# Create a Python environment for the experiment\n",
        "python_env = Environment.from_pip_requirements(\"pipeline_env\", \"requirements.txt\")"
      ],
      "outputs": [],
      "execution_count": null,
      "metadata": {
        "jupyter": {
          "source_hidden": false,
          "outputs_hidden": false
        },
        "nteract": {
          "transient": {
            "deleting": false
          }
        }
      }
    },
    {
      "cell_type": "code",
      "source": [
        "# Create a new runconfig object for the pipeline\n",
        "pipeline_run_config = RunConfiguration()\n",
        "pipeline_run_config.environment = python_env\n",
        "\n",
        "from azureml.core.compute import ComputeTarget\n",
        "\n",
        "# Define the name of your existing compute target\n",
        "existing_compute_target_name = \"matthewhanauer3\"\n",
        "\n",
        "# Retrieve the existing compute target\n",
        "compute_target = ComputeTarget(workspace=ws, name=existing_compute_target_name)\n",
        "\n",
        "# Validate that the compute target exists\n",
        "if compute_target is not None:\n",
        "    print(f\"Using existing compute target: {existing_compute_target_name}\")\n",
        "else:\n",
        "    print(f\"No compute target found with name {existing_compute_target_name}\")\n",
        "    exit(1)  # Exit the script if the compute target doesn't exist\n",
        "\n",
        "# Modify the PythonScriptStep to include the compute_target\n",
        "script_step = PythonScriptStep(\n",
        "    name=\"Run Scheduled Script\",\n",
        "    script_name=\"data_modeling_ml.py\",\n",
        "    source_directory=\"./\",\n",
        "    runconfig=pipeline_run_config,\n",
        "    compute_target=compute_target,\n",
        "    allow_reuse=False,\n",
        ")"
      ],
      "outputs": [],
      "execution_count": null,
      "metadata": {
        "jupyter": {
          "source_hidden": false,
          "outputs_hidden": false
        },
        "nteract": {
          "transient": {
            "deleting": false
          }
        }
      }
    },
    {
      "cell_type": "code",
      "source": [
        "# Create the pipeline\n",
        "pipeline = Pipeline(workspace=ws, steps=[script_step])\n",
        "\n",
        "\n",
        "# Publish the pipeline\n",
        "published_pipeline = pipeline.publish(\n",
        "    name=\"My_Published_Pipeline\",\n",
        "    description=\"Published pipeline to run the script every minute.\",\n",
        ")\n",
        "\n",
        "# Create an experiment and run the pipeline\n",
        "experiment_name = \"Scheduled_Script_Experiment\"\n",
        "experiment = Experiment(ws, experiment_name)\n",
        "\n",
        "# Submit the pipeline as an experiment run\n",
        "pipeline_run = experiment.submit(pipeline)\n",
        "\n",
        "pipeline_id = published_pipeline.id"
      ],
      "outputs": [],
      "execution_count": null,
      "metadata": {
        "jupyter": {
          "source_hidden": false,
          "outputs_hidden": false
        },
        "nteract": {
          "transient": {
            "deleting": false
          }
        }
      }
    },
    {
      "cell_type": "code",
      "source": [
        "from azureml.pipeline.core import ScheduleRecurrence, Schedule\n",
        "\n",
        "# Define the pipeline schedule\n",
        "recurrence = ScheduleRecurrence(frequency=\"Minute\", interval=1)  # Runs every minute\n",
        "schedule = Schedule.create(\n",
        "    ws,\n",
        "    name=\"My_Schedule\",\n",
        "    description=\"Runs pipeline every minute\",\n",
        "    pipeline_id=pipeline_id,\n",
        "    experiment_name=experiment_name,\n",
        "    recurrence=recurrence,\n",
        ")"
      ],
      "outputs": [],
      "execution_count": null,
      "metadata": {
        "jupyter": {
          "source_hidden": false,
          "outputs_hidden": false
        },
        "nteract": {
          "transient": {
            "deleting": false
          }
        }
      }
    },
    {
      "cell_type": "code",
      "source": [
        "from azureml.core import Workspace\n",
        "from azureml.pipeline.core import Schedule\n",
        "\n",
        "# Initialize Azure ML Workspace\n",
        "ws = Workspace.from_config()\n",
        "\n",
        "# Your schedule name\n",
        "schedule_name = \"My_Schedule\"\n",
        "\n",
        "# List all schedules in the workspace\n",
        "schedules = Schedule.list(ws)\n",
        "\n",
        "# Filter and disable the schedule with the given name\n",
        "for schedule in schedules:\n",
        "    if schedule.name == schedule_name:\n",
        "        print(f\"Disabling schedule {schedule.name}\")\n",
        "        schedule.disable()"
      ],
      "outputs": [],
      "execution_count": null,
      "metadata": {
        "jupyter": {
          "source_hidden": false,
          "outputs_hidden": false
        },
        "nteract": {
          "transient": {
            "deleting": false
          }
        }
      }
    }
  ],
  "metadata": {
    "kernelspec": {
      "display_name": "Python 3.10 - SDK v2",
      "language": "python",
      "name": "python310-sdkv2"
    },
    "language_info": {
      "codemirror_mode": {
        "name": "ipython",
        "version": 3
      },
      "file_extension": ".py",
      "mimetype": "text/x-python",
      "name": "python",
      "nbconvert_exporter": "python",
      "pygments_lexer": "ipython3",
      "version": "3.10.6"
    },
    "microsoft": {
      "ms_spell_check": {
        "ms_spell_check_language": "en"
      }
    },
    "nteract": {
      "version": "nteract-front-end@1.0.0"
    }
  },
  "nbformat": 4,
  "nbformat_minor": 2
}